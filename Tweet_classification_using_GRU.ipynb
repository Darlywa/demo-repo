{
  "nbformat": 4,
  "nbformat_minor": 0,
  "metadata": {
    "colab": {
      "provenance": [],
      "authorship_tag": "ABX9TyN+3T5l9sZ+GjaOtV1h3b+m",
      "include_colab_link": true
    },
    "kernelspec": {
      "name": "python3",
      "display_name": "Python 3"
    },
    "language_info": {
      "name": "python"
    }
  },
  "cells": [
    {
      "cell_type": "markdown",
      "metadata": {
        "id": "view-in-github",
        "colab_type": "text"
      },
      "source": [
        "<a href=\"https://colab.research.google.com/github/IfeanyiEmeagi/Sentiment-Analysis-CETM47/blob/main/Tweet_classification_using_GRU.ipynb\" target=\"_parent\"><img src=\"https://colab.research.google.com/assets/colab-badge.svg\" alt=\"Open In Colab\"/></a>"
      ]
    },
    {
      "cell_type": "code",
      "execution_count": 1,
      "metadata": {
        "id": "ExcWASVRKXnQ"
      },
      "outputs": [],
      "source": [
        "import pandas as pd\n",
        "import numpy as np\n",
        "from google.colab import drive\n",
        "import matplotlib.pyplot as plt\n",
        "import re"
      ]
    },
    {
      "cell_type": "code",
      "source": [
        "#Mount the google drive\n",
        "drive.mount('/content/drive/')"
      ],
      "metadata": {
        "colab": {
          "base_uri": "https://localhost:8080/"
        },
        "id": "nhv9B4SEPuTv",
        "outputId": "be0627d3-3329-488b-e4d2-d9c4d7585bd1"
      },
      "execution_count": 2,
      "outputs": [
        {
          "output_type": "stream",
          "name": "stdout",
          "text": [
            "Mounted at /content/drive/\n"
          ]
        }
      ]
    },
    {
      "cell_type": "code",
      "source": [
        "#\n",
        "#Load the dataset\n",
        "def load_data(file_path):\n",
        "  \"\"\"The function loads the dataset from the dataset and print some few informations\n",
        "  \"\"\"\n",
        "  data = pd.read_json(file_path)\n",
        "\n",
        "  #print some few information about the dataset\n",
        "  print(f'The dataset contains {data.shape[0]} rows and {data.shape[1]} columns.')\n",
        "  print('It contains the following data type:')\n",
        "  print(data.dtypes)\n",
        "\n",
        "  return data\n",
        "\n",
        "file_path = '/content/drive/MyDrive/Colab Notebooks/CETM47-22_23-AS2-Data.json'\n",
        "data = load_data(file_path)"
      ],
      "metadata": {
        "colab": {
          "base_uri": "https://localhost:8080/"
        },
        "id": "kspEE0YAK3Na",
        "outputId": "431d2314-d24b-4bb5-e239-e150d45c5770"
      },
      "execution_count": 3,
      "outputs": [
        {
          "output_type": "stream",
          "name": "stdout",
          "text": [
            "The dataset contains 6443 rows and 5 columns.\n",
            "It contains the following data type:\n",
            "text                  object\n",
            "date          datetime64[ns]\n",
            "label                  int64\n",
            "id                     int64\n",
            "label_name            object\n",
            "dtype: object\n"
          ]
        }
      ]
    },
    {
      "cell_type": "code",
      "source": [
        "#Explore the data\n",
        "#1. Check for null values\n",
        "data.isnull().sum() #There is no null values."
      ],
      "metadata": {
        "colab": {
          "base_uri": "https://localhost:8080/"
        },
        "id": "VjSbesbpM_73",
        "outputId": "e9ee7cb9-5da2-4ff4-cc4c-cbde450766e1"
      },
      "execution_count": 4,
      "outputs": [
        {
          "output_type": "execute_result",
          "data": {
            "text/plain": [
              "text          0\n",
              "date          0\n",
              "label         0\n",
              "id            0\n",
              "label_name    0\n",
              "dtype: int64"
            ]
          },
          "metadata": {},
          "execution_count": 4
        }
      ]
    },
    {
      "cell_type": "code",
      "source": [
        "#2. Check for duplicates\n",
        "data.duplicated().sum() #There is no dupicate rows."
      ],
      "metadata": {
        "colab": {
          "base_uri": "https://localhost:8080/"
        },
        "id": "BCoffMgzNNMn",
        "outputId": "d8e297c8-f962-4dc1-e480-48b645eb88b7"
      },
      "execution_count": 5,
      "outputs": [
        {
          "output_type": "execute_result",
          "data": {
            "text/plain": [
              "0"
            ]
          },
          "metadata": {},
          "execution_count": 5
        }
      ]
    },
    {
      "cell_type": "code",
      "source": [
        "#3. Counts the label_name\n",
        "data['label_name'].value_counts() #The data is not evenly distributed across the labels."
      ],
      "metadata": {
        "colab": {
          "base_uri": "https://localhost:8080/"
        },
        "id": "B9awlbyYN20c",
        "outputId": "89421030-fe71-47ae-a9ed-5b3b543954cb"
      },
      "execution_count": 6,
      "outputs": [
        {
          "output_type": "execute_result",
          "data": {
            "text/plain": [
              "label_name\n",
              "pop_culture                 2512\n",
              "sports_&_gaming             2291\n",
              "daily_life                   883\n",
              "science_&_technology         326\n",
              "business_&_entrepreneurs     287\n",
              "arts_&_culture               144\n",
              "Name: count, dtype: int64"
            ]
          },
          "metadata": {},
          "execution_count": 6
        }
      ]
    },
    {
      "cell_type": "code",
      "source": [
        "#4. Visualise the distribution.\n",
        "data['label_name'].value_counts().plot.bar()\n",
        "plt.xlabel('Label Name')\n",
        "plt.ylabel('Frequency [Count]')\n",
        "plt.title('Label Data Distribution');"
      ],
      "metadata": {
        "colab": {
          "base_uri": "https://localhost:8080/",
          "height": 641
        },
        "id": "t4UzwQQEOu8o",
        "outputId": "506900a4-d99b-4e39-dbc0-4b65a744ec5a"
      },
      "execution_count": 7,
      "outputs": [
        {
          "output_type": "display_data",
          "data": {
            "text/plain": [
              "<Figure size 640x480 with 1 Axes>"
            ],
            "image/png": "[encoded data removed]"
          },
          "metadata": {}
        }
      ]
    },
    {
      "cell_type": "code",
      "source": [
        "#5. Extract the label and the label_name\n",
        "label_match = {label: data.loc[data['label_name'] == label, 'label'].iloc[0] for label in data['label_name'].unique()}\n",
        "label_match"
      ],
      "metadata": {
        "colab": {
          "base_uri": "https://localhost:8080/"
        },
        "id": "GNTDc59WQFqy",
        "outputId": "caef9a22-00be-44d5-95e0-f6ac7dfe1119"
      },
      "execution_count": 8,
      "outputs": [
        {
          "output_type": "execute_result",
          "data": {
            "text/plain": [
              "{'sports_&_gaming': 4,\n",
              " 'pop_culture': 2,\n",
              " 'daily_life': 3,\n",
              " 'business_&_entrepreneurs': 1,\n",
              " 'science_&_technology': 5,\n",
              " 'arts_&_culture': 0}"
            ]
          },
          "metadata": {},
          "execution_count": 8
        }
      ]
    },
    {
      "cell_type": "code",
      "source": [
        "#6. Extract the label and the text\n",
        "\n",
        "label_text = data[['text', 'label']]\n",
        "label_text.head(3)"
      ],
      "metadata": {
        "colab": {
          "base_uri": "https://localhost:8080/",
          "height": 143
        },
        "id": "gNwRr0RWSC-e",
        "outputId": "3b5f0975-a0f2-444b-86fb-65ef758e1c13"
      },
      "execution_count": 9,
      "outputs": [
        {
          "output_type": "execute_result",
          "data": {
            "text/plain": [
              "                                                text  label\n",
              "0  The {@Clinton LumberKings@} beat the {@Cedar R...      4\n",
              "1  I would rather hear Eli Gold announce this Aub...      4\n",
              "2  Someone take my phone away, I’m trying to not ...      4"
            ],
            "text/html": [
              "\n",
              "  <div id=\"df-9fd2f8d7-7bd5-4440-bb93-da6cbac9c81e\" class=\"colab-df-container\">\n",
              "    <div>\n",
              "<style scoped>\n",
              "    .dataframe tbody tr th:only-of-type {\n",
              "        vertical-align: middle;\n",
              "    }\n",
              "\n",
              "    .dataframe tbody tr th {\n",
              "        vertical-align: top;\n",
              "    }\n",
              "\n",
              "    .dataframe thead th {\n",
              "        text-align: right;\n",
              "    }\n",
              "</style>\n",
              "<table border=\"1\" class=\"dataframe\">\n",
              "  <thead>\n",
              "    <tr style=\"text-align: right;\">\n",
              "      <th></th>\n",
              "      <th>text</th>\n",
              "      <th>label</th>\n",
              "    </tr>\n",
              "  </thead>\n",
              "  <tbody>\n",
              "    <tr>\n",
              "      <th>0</th>\n",
              "      <td>The {@Clinton LumberKings@} beat the {@Cedar R...</td>\n",
              "      <td>4</td>\n",
              "    </tr>\n",
              "    <tr>\n",
              "      <th>1</th>\n",
              "      <td>I would rather hear Eli Gold announce this Aub...</td>\n",
              "      <td>4</td>\n",
              "    </tr>\n",
              "    <tr>\n",
              "      <th>2</th>\n",
              "      <td>Someone take my phone away, I’m trying to not ...</td>\n",
              "      <td>4</td>\n",
              "    </tr>\n",
              "  </tbody>\n",
              "</table>\n",
              "</div>\n",
              "    <div class=\"colab-df-buttons\">\n",
              "\n",
              "  <div class=\"colab-df-container\">\n",
              "    <button class=\"colab-df-convert\" onclick=\"convertToInteractive('df-9fd2f8d7-7bd5-4440-bb93-da6cbac9c81e')\"\n",
              "            title=\"Convert this dataframe to an interactive table.\"\n",
              "            style=\"display:none;\">\n",
              "\n",
              "  <svg xmlns=\"http://www.w3.org/2000/svg\" height=\"24px\" viewBox=\"0 -960 960 960\">\n",
              "    <path d=\"M120-120v-720h720v720H120Zm60-500h600v-160H180v160Zm220 220h160v-160H400v160Zm0 220h160v-160H400v160ZM180-400h160v-160H180v160Zm440 0h160v-160H620v160ZM180-180h160v-160H180v160Zm440 0h160v-160H620v160Z\"/>\n",
              "  </svg>\n",
              "    </button>\n",
              "\n",
              "  <style>\n",
              "    .colab-df-container {\n",
              "      display:flex;\n",
              "      gap: 12px;\n",
              "    }\n",
              "\n",
              "    .colab-df-convert {\n",
              "      background-color: #E8F0FE;\n",
              "      border: none;\n",
              "      border-radius: 50%;\n",
              "      cursor: pointer;\n",
              "      display: none;\n",
              "      fill: #1967D2;\n",
              "      height: 32px;\n",
              "      padding: 0 0 0 0;\n",
              "      width: 32px;\n",
              "    }\n",
              "\n",
              "    .colab-df-convert:hover {\n",
              "      background-color: #E2EBFA;\n",
              "      box-shadow: 0px 1px 2px rgba(60, 64, 67, 0.3), 0px 1px 3px 1px rgba(60, 64, 67, 0.15);\n",
              "      fill: #174EA6;\n",
              "    }\n",
              "\n",
              "    .colab-df-buttons div {\n",
              "      margin-bottom: 4px;\n",
              "    }\n",
              "\n",
              "    [theme=dark] .colab-df-convert {\n",
              "      background-color: #3B4455;\n",
              "      fill: #D2E3FC;\n",
              "    }\n",
              "\n",
              "    [theme=dark] .colab-df-convert:hover {\n",
              "      background-color: #434B5C;\n",
              "      box-shadow: 0px 1px 3px 1px rgba(0, 0, 0, 0.15);\n",
              "      filter: drop-shadow(0px 1px 2px rgba(0, 0, 0, 0.3));\n",
              "      fill: #FFFFFF;\n",
              "    }\n",
              "  </style>\n",
              "\n",
              "    <script>\n",
              "      const buttonEl =\n",
              "        document.querySelector('#df-9fd2f8d7-7bd5-4440-bb93-da6cbac9c81e button.colab-df-convert');\n",
              "      buttonEl.style.display =\n",
              "        google.colab.kernel.accessAllowed ? 'block' : 'none';\n",
              "\n",
              "      async function convertToInteractive(key) {\n",
              "        const element = document.querySelector('#df-9fd2f8d7-7bd5-4440-bb93-da6cbac9c81e');\n",
              "        const dataTable =\n",
              "          await google.colab.kernel.invokeFunction('convertToInteractive',\n",
              "                                                    [key], {});\n",
              "        if (!dataTable) return;\n",
              "\n",
              "        const docLinkHtml = 'Like what you see? Visit the ' +\n",
              "          '<a target=\"_blank\" href=https://colab.research.google.com/notebooks/data_table.ipynb>data table notebook</a>'\n",
              "          + ' to learn more about interactive tables.';\n",
              "        element.innerHTML = '';\n",
              "        dataTable['output_type'] = 'display_data';\n",
              "        await google.colab.output.renderOutput(dataTable, element);\n",
              "        const docLink = document.createElement('div');\n",
              "        docLink.innerHTML = docLinkHtml;\n",
              "        element.appendChild(docLink);\n",
              "      }\n",
              "    </script>\n",
              "  </div>\n",
              "\n",
              "\n",
              "<div id=\"df-03ff7740-1075-42e9-b9ac-5ab7a1d781ac\">\n",
              "  <button class=\"colab-df-quickchart\" onclick=\"quickchart('df-03ff7740-1075-42e9-b9ac-5ab7a1d781ac')\"\n",
              "            title=\"Suggest charts\"\n",
              "            style=\"display:none;\">\n",
              "\n",
              "<svg xmlns=\"http://www.w3.org/2000/svg\" height=\"24px\"viewBox=\"0 0 24 24\"\n",
              "     width=\"24px\">\n",
              "    <g>\n",
              "        <path d=\"M19 3H5c-1.1 0-2 .9-2 2v14c0 1.1.9 2 2 2h14c1.1 0 2-.9 2-2V5c0-1.1-.9-2-2-2zM9 17H7v-7h2v7zm4 0h-2V7h2v10zm4 0h-2v-4h2v4z\"/>\n",
              "    </g>\n",
              "</svg>\n",
              "  </button>\n",
              "\n",
              "<style>\n",
              "  .colab-df-quickchart {\n",
              "      --bg-color: #E8F0FE;\n",
              "      --fill-color: #1967D2;\n",
              "      --hover-bg-color: #E2EBFA;\n",
              "      --hover-fill-color: #174EA6;\n",
              "      --disabled-fill-color: #AAA;\n",
              "      --disabled-bg-color: #DDD;\n",
              "  }\n",
              "\n",
              "  [theme=dark] .colab-df-quickchart {\n",
              "      --bg-color: #3B4455;\n",
              "      --fill-color: #D2E3FC;\n",
              "      --hover-bg-color: #434B5C;\n",
              "      --hover-fill-color: #FFFFFF;\n",
              "      --disabled-bg-color: #3B4455;\n",
              "      --disabled-fill-color: #666;\n",
              "  }\n",
              "\n",
              "  .colab-df-quickchart {\n",
              "    background-color: var(--bg-color);\n",
              "    border: none;\n",
              "    border-radius: 50%;\n",
              "    cursor: pointer;\n",
              "    display: none;\n",
              "    fill: var(--fill-color);\n",
              "    height: 32px;\n",
              "    padding: 0;\n",
              "    width: 32px;\n",
              "  }\n",
              "\n",
              "  .colab-df-quickchart:hover {\n",
              "    background-color: var(--hover-bg-color);\n",
              "    box-shadow: 0 1px 2px rgba(60, 64, 67, 0.3), 0 1px 3px 1px rgba(60, 64, 67, 0.15);\n",
              "    fill: var(--button-hover-fill-color);\n",
              "  }\n",
              "\n",
              "  .colab-df-quickchart-complete:disabled,\n",
              "  .colab-df-quickchart-complete:disabled:hover {\n",
              "    background-color: var(--disabled-bg-color);\n",
              "    fill: var(--disabled-fill-color);\n",
              "    box-shadow: none;\n",
              "  }\n",
              "\n",
              "  .colab-df-spinner {\n",
              "    border: 2px solid var(--fill-color);\n",
              "    border-color: transparent;\n",
              "    border-bottom-color: var(--fill-color);\n",
              "    animation:\n",
              "      spin 1s steps(1) infinite;\n",
              "  }\n",
              "\n",
              "  @keyframes spin {\n",
              "    0% {\n",
              "      border-color: transparent;\n",
              "      border-bottom-color: var(--fill-color);\n",
              "      border-left-color: var(--fill-color);\n",
              "    }\n",
              "    20% {\n",
              "      border-color: transparent;\n",
              "      border-left-color: var(--fill-color);\n",
              "      border-top-color: var(--fill-color);\n",
              "    }\n",
              "    30% {\n",
              "      border-color: transparent;\n",
              "      border-left-color: var(--fill-color);\n",
              "      border-top-color: var(--fill-color);\n",
              "      border-right-color: var(--fill-color);\n",
              "    }\n",
              "    40% {\n",
              "      border-color: transparent;\n",
              "      border-right-color: var(--fill-color);\n",
              "      border-top-color: var(--fill-color);\n",
              "    }\n",
              "    60% {\n",
              "      border-color: transparent;\n",
              "      border-right-color: var(--fill-color);\n",
              "    }\n",
              "    80% {\n",
              "      border-color: transparent;\n",
              "      border-right-color: var(--fill-color);\n",
              "      border-bottom-color: var(--fill-color);\n",
              "    }\n",
              "    90% {\n",
              "      border-color: transparent;\n",
              "      border-bottom-color: var(--fill-color);\n",
              "    }\n",
              "  }\n",
              "</style>\n",
              "\n",
              "  <script>\n",
              "    async function quickchart(key) {\n",
              "      const quickchartButtonEl =\n",
              "        document.querySelector('#' + key + ' button');\n",
              "      quickchartButtonEl.disabled = true;  // To prevent multiple clicks.\n",
              "      quickchartButtonEl.classList.add('colab-df-spinner');\n",
              "      try {\n",
              "        const charts = await google.colab.kernel.invokeFunction(\n",
              "            'suggestCharts', [key], {});\n",
              "      } catch (error) {\n",
              "        console.error('Error during call to suggestCharts:', error);\n",
              "      }\n",
              "      quickchartButtonEl.classList.remove('colab-df-spinner');\n",
              "      quickchartButtonEl.classList.add('colab-df-quickchart-complete');\n",
              "    }\n",
              "    (() => {\n",
              "      let quickchartButtonEl =\n",
              "        document.querySelector('#df-03ff7740-1075-42e9-b9ac-5ab7a1d781ac button');\n",
              "      quickchartButtonEl.style.display =\n",
              "        google.colab.kernel.accessAllowed ? 'block' : 'none';\n",
              "    })();\n",
              "  </script>\n",
              "</div>\n",
              "    </div>\n",
              "  </div>\n"
            ],
            "application/vnd.google.colaboratory.intrinsic+json": {
              "type": "dataframe",
              "variable_name": "label_text",
              "summary": "{\n  \"name\": \"label_text\",\n  \"rows\": 6443,\n  \"fields\": [\n    {\n      \"column\": \"text\",\n      \"properties\": {\n        \"dtype\": \"string\",\n        \"num_unique_values\": 6442,\n        \"samples\": [\n          \"Had to run to {@Micro Center@} to stock up on #filament for the #3dprinters ! Got to keep up on orders!  Keeping packoutprincess  / j8ksgrl  busy!   #packoutsystem #packout #milwaukee #3dprinting everything3dprinting\\u2026 {{URL}}\",\n          \"The climate change hoax - Dr. Tim Ball {{URL}} via {@YouTube@} . !!\",\n          \"Keep up that pressure {@Boston Bruins@} !!! Awesome atmosphere at the {@TD Garden@}\"\n        ],\n        \"semantic_type\": \"\",\n        \"description\": \"\"\n      }\n    },\n    {\n      \"column\": \"label\",\n      \"properties\": {\n        \"dtype\": \"number\",\n        \"std\": 1,\n        \"min\": 0,\n        \"max\": 5,\n        \"num_unique_values\": 6,\n        \"samples\": [\n          4,\n          2,\n          0\n        ],\n        \"semantic_type\": \"\",\n        \"description\": \"\"\n      }\n    }\n  ]\n}"
            }
          },
          "metadata": {},
          "execution_count": 9
        }
      ]
    },
    {
      "cell_type": "code",
      "source": [
        "#The label is the y and the x is the text.\n",
        "#7. Extract the text for further processing\n",
        "texts = label_text['text'].to_list()\n",
        "texts[:3]"
      ],
      "metadata": {
        "colab": {
          "base_uri": "https://localhost:8080/"
        },
        "id": "xC7XGoGYTBcV",
        "outputId": "8f567e64-eb38-43a0-c8b6-278e3694b6f5"
      },
      "execution_count": 14,
      "outputs": [
        {
          "output_type": "execute_result",
          "data": {
            "text/plain": [
              "['The {@Clinton LumberKings@} beat the {@Cedar Rapids Kernels@} 4-0 in Game 1 of the Western Division finals. Evan Edwards hit a 2-run HR. WP Josh Roberson: 5 IP, 3 H, 0 R, 0 BB, 10 K #MWLplayoffs #MWLscoreboard',\n",
              " 'I would rather hear Eli Gold announce this Auburn game than these dumbasses. {@ESPN@}',\n",
              " 'Someone take my phone away, I’m trying to not look at {@Chicago Blackhawks@} home game tickets in October ']"
            ]
          },
          "metadata": {},
          "execution_count": 14
        }
      ]
    },
    {
      "cell_type": "code",
      "source": [
        "import nltk\n",
        "from nltk.tokenize import word_tokenize\n",
        "from nltk.corpus import stopwords\n",
        "from nltk.stem import WordNetLemmatizer\n",
        "from nltk.tag import pos_tag\n",
        "from nltk.corpus import wordnet as wn"
      ],
      "metadata": {
        "id": "qjyGkmySH5TL"
      },
      "execution_count": 13,
      "outputs": []
    },
    {
      "cell_type": "code",
      "source": [
        "#Download the required modules\n",
        "nltk.download('punkt')\n",
        "nltk.download(\"stopwords\")\n",
        "nltk.download('averaged_perceptron_tagger')\n",
        "nltk.download(\"wordnet\")\n",
        "nltk.download(\"omw-1.4\")"
      ],
      "metadata": {
        "colab": {
          "base_uri": "https://localhost:8080/"
        },
        "id": "NBCKkcZ4ILtU",
        "outputId": "a195eb77-55af-483c-d7ad-17e7b506d918"
      },
      "execution_count": 12,
      "outputs": [
        {
          "output_type": "stream",
          "name": "stderr",
          "text": [
            "[nltk_data] Downloading package punkt to /root/nltk_data...\n",
            "[nltk_data]   Unzipping tokenizers/punkt.zip.\n",
            "[nltk_data] Downloading package stopwords to /root/nltk_data...\n",
            "[nltk_data]   Unzipping corpora/stopwords.zip.\n",
            "[nltk_data] Downloading package averaged_perceptron_tagger to\n",
            "[nltk_data]     /root/nltk_data...\n",
            "[nltk_data]   Unzipping taggers/averaged_perceptron_tagger.zip.\n",
            "[nltk_data] Downloading package wordnet to /root/nltk_data...\n",
            "[nltk_data] Downloading package omw-1.4 to /root/nltk_data...\n"
          ]
        },
        {
          "output_type": "execute_result",
          "data": {
            "text/plain": [
              "True"
            ]
          },
          "metadata": {},
          "execution_count": 12
        }
      ]
    },
    {
      "cell_type": "code",
      "source": [
        "#8. Clean the text: Removing whitespace, non alphabetical characters, stop words, tokenize and implement lemmatization.\n",
        "\n",
        "def lemmatizer_func(word):\n",
        "  lemmatizer = WordNetLemmatizer()\n",
        "  mapping = {'N': wn.NOUN, 'V': wn.VERB, 'R': wn.ADV,'J': wn.ADJ}\n",
        "  pos_tags = pos_tag([word])\n",
        "  wn_pos_tags = [(word, mapping.get(tag[0].upper(), wn.NOUN)) for (word, tag) in pos_tags]\n",
        "  word = wn_pos_tags[0][0]\n",
        "  tag = wn_pos_tags[0][1]\n",
        "  return lemmatizer.lemmatize(word, tag)\n",
        "\n",
        "\n",
        "\n",
        "def text_cleaning(texts):\n",
        "  \"\"\"The function removes whitespaces, non alphabetical characters, stop words, tokenize and lemmatize the tokens.\n",
        "  \"\"\"\n",
        "  #data cleaning\n",
        "  texts = re.sub(r'\\s+', ' ', texts, flags=re.I) #remove extra spaces from the text\n",
        "  texts = re.sub(r'\\W', ' ', str(texts)) #remove all the special characters\n",
        "  texts = re.sub(r'\\s+[a-zA-Z]\\s+', ' ', texts) #remove all single characters\n",
        "  texts = re.sub(r'\\[^a-zA-Z\\s]', '', texts)  #remove all characters that is not alphabetical\n",
        "\n",
        "  #Lower the text\n",
        "  texts = texts.lower()\n",
        "\n",
        "  #tokenise the texts\n",
        "  tokenised_texts = word_tokenize(texts)\n",
        "\n",
        "  #lemmatize the word\n",
        "  lemmatized_words = [lemmatizer_func(word) for word in tokenised_texts]\n",
        "\n",
        "  #remove stop words\n",
        "  stop_words = set(stopwords.words('english'))\n",
        "  filtered_words = [word for word in lemmatized_words if word not in stop_words]\n",
        "\n",
        "  #remove words whose length is 3 and below\n",
        "  filtered_words = [word for word in filtered_words if len(word) > 3]\n",
        "\n",
        "  #get the index of the unique words\n",
        "  indices = np.unique(filtered_words, return_index=True)[1]\n",
        "\n",
        "  clean_text = np.array(filtered_words)[np.sort(indices)].tolist()\n",
        "\n",
        "  return clean_text\n",
        "\n",
        "clean_text = [text_cleaning(texts=text) for text in texts]"
      ],
      "metadata": {
        "id": "VVjJ4mykTljV"
      },
      "execution_count": 16,
      "outputs": []
    },
    {
      "cell_type": "code",
      "source": [
        "print(clean_text[:3])"
      ],
      "metadata": {
        "colab": {
          "base_uri": "https://localhost:8080/"
        },
        "id": "HbRTl3rFJn9R",
        "outputId": "1694d67d-acfc-43a6-ba61-e184146d014c"
      },
      "execution_count": 18,
      "outputs": [
        {
          "output_type": "stream",
          "name": "stdout",
          "text": [
            "[['clinton', 'lumberkings', 'beat', 'cedar', 'rapid', 'kernel', 'game', 'western', 'division', 'final', 'evan', 'edward', 'josh', 'roberson', 'mwlplayoffs', 'mwlscoreboard'], ['would', 'rather', 'hear', 'gold', 'announce', 'auburn', 'game', 'dumbass', 'espn'], ['someone', 'take', 'phone', 'away', 'look', 'chicago', 'blackhawks', 'home', 'game', 'ticket', 'october']]\n"
          ]
        }
      ]
    },
    {
      "cell_type": "code",
      "source": [
        "from sklearn.model_selection import train_test_split\n",
        "\n",
        "#Get the labels\n",
        "y = label_text['label'].to_list()\n",
        "\n",
        "#Split the test into train and set and ensure the percentage of each label is maintained on train and test set\n",
        "X_train, X_test, y_train, y_test = train_test_split(clean_text, y, test_size=0.1, stratify=y, random_state=42)\n",
        "\n",
        "print(f'The X_train conatins {len(X_train)} rows')\n",
        "print(f'The y_train conatins {len(y_train)} rows')\n",
        "print(f'The X_test conatins {len(X_test)} rows')\n",
        "print(f'The y_test conatins {len(y_test)} rows')"
      ],
      "metadata": {
        "colab": {
          "base_uri": "https://localhost:8080/"
        },
        "id": "Ihbg1eUjOmJz",
        "outputId": "3d754bed-87b9-4342-bead-334f7e55b95d"
      },
      "execution_count": 21,
      "outputs": [
        {
          "output_type": "stream",
          "name": "stdout",
          "text": [
            "The X_train conatins 5798 rows\n",
            "The y_train conatins 5798 rows\n",
            "The X_test conatins 645 rows\n",
            "The y_test conatins 645 rows\n"
          ]
        }
      ]
    },
    {
      "cell_type": "code",
      "source": [
        "#Check for the max length in both X_train and X_test\n",
        "train_max_length = max([len(row) for row in X_train])\n",
        "test_max_length = max([len(row) for row in X_test])\n",
        "print(f'The X_train max length is {train_max_length} and the X_test max length is {test_max_length}.')\n"
      ],
      "metadata": {
        "colab": {
          "base_uri": "https://localhost:8080/"
        },
        "id": "9X3K1txpZQH1",
        "outputId": "c2de348c-f049-41a3-8984-1b95a4c79f4d"
      },
      "execution_count": 22,
      "outputs": [
        {
          "output_type": "stream",
          "name": "stdout",
          "text": [
            "The X_train max length is 30 and the X_test max length is 30.\n"
          ]
        }
      ]
    },
    {
      "cell_type": "code",
      "source": [
        "#Convert the X_train and X_test to numerical vectors\n",
        "\n",
        "from tensorflow.keras.preprocessing.text import Tokenizer\n",
        "from tensorflow.keras.preprocessing.sequence import pad_sequences\n",
        "\n",
        "#set an arbitary maximum vocabulary\n",
        "max_vocab = 100000\n",
        "tokenizer = Tokenizer(num_words=max_vocab) #Instantiate the tokenizer\n",
        "tokenizer.fit_on_texts(X_train)\n",
        "\n",
        "actual_vocab_size  = len(tokenizer.word_index)\n",
        "\n",
        "X_train = tokenizer.texts_to_sequences(X_train)\n",
        "X_test = tokenizer.texts_to_sequences(X_test)\n",
        "\n",
        "#Padd the Sequences to have same length\n",
        "maxlen = 50 #Since our max length is 30, let set it Sequence length to 50 to factor in expansion a caused by variability for new data.\n",
        "\n",
        "X_train = pad_sequences(X_train, maxlen=maxlen)\n",
        "X_test = pad_sequences(X_test, maxlen=maxlen)\n",
        "\n",
        "print(X_train[:3], X_test[:3])\n"
      ],
      "metadata": {
        "colab": {
          "base_uri": "https://localhost:8080/"
        },
        "id": "RDbyApKqPjC_",
        "outputId": "f47f2224-0cb6-4416-911b-e22f11f82958"
      },
      "execution_count": 23,
      "outputs": [
        {
          "output_type": "stream",
          "name": "stdout",
          "text": [
            "[[   0    0    0    0    0    0    0    0    0    0    0    0    0    0\n",
            "     0    0    0    0    0    0    0    0    0    0    0    0    0    0\n",
            "     0    0    0    0    0    0    0    0    0 5770 5771    6   11 5772\n",
            "  2933 5773   33 5774 1238 1116 2934    1]\n",
            " [   0    0    0    0    0    0    0    0    0    0    0    0    0    0\n",
            "     0    0    0    0    0    0    0    0    0    0    0    0    0    0\n",
            "     0    0    0    0    0    0    0    0 5775    1 1988  206  327   30\n",
            "    23  771    2   25  100  650   42  101]\n",
            " [   0    0    0    0    0    0    0    0    0    0    0    0    0    0\n",
            "     0    0    0    0    0    0    0    0    0    0    0    0    0    0\n",
            "     0    0    0    0    0    0    0  277 2378  651 1989 3814 2379 1724\n",
            "   296   51   43 5776  278 1348   23 1349]] [[    0     0     0     0     0     0     0     0     0     0     0     0\n",
            "      0     0     0     0     0     0     0     0     0     0     0     0\n",
            "      0     0     0     0     0   199   315   407   132    38   253  1622\n",
            "     19   194  4686  1816  8425   121  1668  1647  1177  1977  2138   133\n",
            "   5037     1]\n",
            " [    0     0     0     0     0     0     0     0     0     0     0     0\n",
            "      0     0     0     0     0     0     0     0     0     0     0     0\n",
            "      0     0     0     0     0     0     0     0     0     0     0     0\n",
            "      0     0   363  1609  1810   242  1366  1020    86  3520   160   433\n",
            "      6    88]\n",
            " [    0     0     0     0     0     0     0     0     0     0     0     0\n",
            "      0     0     0     0     0     0     0     0     0     0     0     0\n",
            "      0     0     0     0     0     0     0     0     0     0     0     0\n",
            "      0     0     0     0     0     0    35    17 14994  3758   296   646\n",
            "   6026     1]]\n"
          ]
        }
      ]
    },
    {
      "cell_type": "code",
      "source": [
        "#Convert the y labels to categorical data type\n",
        "import tensorflow as tf\n",
        "\n",
        "y_train = tf.keras.utils.to_categorical(y_train)\n",
        "y_test = tf.keras.utils.to_categorical(y_test)"
      ],
      "metadata": {
        "id": "QySV75WyaZlf"
      },
      "execution_count": 24,
      "outputs": []
    },
    {
      "cell_type": "code",
      "source": [
        "#Build the model\n",
        "\n",
        "from tensorflow.keras.layers import Embedding, Dropout, Dense, GRU, Bidirectional, Input\n",
        "from tensorflow.keras.models import Model\n",
        "from tensorflow.keras import optimizers\n",
        "from tensorflow.keras.optimizers import Adam\n"
      ],
      "metadata": {
        "id": "QwGpml4KbUDX"
      },
      "execution_count": 25,
      "outputs": []
    },
    {
      "cell_type": "code",
      "source": [
        "D = maxlen #The dimension of the feature length\n",
        "v = actual_vocab_size #The number of unique words\n",
        "\n",
        "def build_model(v, D):\n",
        "  \"\"\"The function builds the model\n",
        "  Parameters:\n",
        "  Input: v: the vocabulary size, D: the dimension of the feature dataset\n",
        "\n",
        "  Return: model\n",
        "  \"\"\"\n",
        "  input_shape = Input(shape=(D,))\n",
        "  x = Embedding(v+1, D)(input_shape) #v+1 is the number unique words + unknown vocabulary\n",
        "  x = Bidirectional(GRU(200))(x) #Creates a bidirectional GRU layer with 200 units in both direction.\n",
        "                                  #The process the input sequences in both direction and concatenates the output to capture the future and past context.\n",
        "\n",
        "  x = Dense(32, activation='ReLU')(x) #Add a fully connected layer with 32 units and a ReLU activation for feature extractions.\n",
        "  x = Dropout(0.5)(x) # set 50 percent of the output weights to zero to avoid overfitting\n",
        "  x = Dense(16, activation='ReLU')(x)\n",
        "  x = Dense(6, activation='softmax')(x)  #Adds 6 dense layers(fully connected,) and softmax activation for the classification tasks (6 labels). The softmax\n",
        "                                    # outputs a probability distribution across the 6 labels\n",
        "\n",
        "  model = Model(input_shape, x)\n",
        "\n",
        "  return model\n",
        "\n",
        "\n",
        "def train_model(X_train, y_train, X_test, y_test, learning_rate=0.0001, epoch=100):\n",
        "  \"\"\"The function trains the model.\n",
        "  \"\"\"\n",
        "  model = build_model(v, D)\n",
        "\n",
        "  optimizer = Adam(learning_rate=learning_rate)\n",
        "  model.compile(optimizer=optimizer, loss='categorical_crossentropy', metrics=['accuracy'])\n",
        "  history = model.fit(X_train, y_train, epochs=epoch, validation_data = (X_test, y_test))\n",
        "\n",
        "  return history, model\n",
        "\n",
        "#history, _ = train_model(X_train, y_train, X_test, y_test)\n",
        ""
      ],
      "metadata": {
        "id": "8gTtthF7cbnL"
      },
      "execution_count": 39,
      "outputs": []
    },
    {
      "cell_type": "code",
      "source": [
        "# visualize the train and validation loss and accuracy\n",
        "\n",
        "import matplotlib.pyplot as plt\n",
        "\n",
        "def plot_loss_acc(history):\n",
        "\n",
        "  # Plot training & validation accuracy values\n",
        "  plt.plot(history.history['accuracy'])\n",
        "  plt.plot(history.history['val_accuracy'])\n",
        "  plt.title('Model accuracy')\n",
        "  plt.xlabel('Epoch')\n",
        "  plt.ylabel('Accuracy')\n",
        "  plt.legend(['Train', 'Test'], loc='upper left')\n",
        "  plt.show()\n",
        "\n",
        "  # Plot training & validation loss values\n",
        "  plt.plot(history.history['loss'])\n",
        "  plt.plot(history.history['val_loss'])\n",
        "  plt.title('Model loss')\n",
        "  plt.xlabel('Epoch')\n",
        "  plt.ylabel('Loss')\n",
        "  plt.legend(['Train', 'Test'], loc='upper left')\n",
        "  plt.show()\n",
        "  return None"
      ],
      "metadata": {
        "id": "rPj12ZhFk4hZ"
      },
      "execution_count": 42,
      "outputs": []
    },
    {
      "cell_type": "code",
      "source": [
        "history, model= train_model(X_train, y_train, X_test, y_test, epoch=8, learning_rate=0.001)"
      ],
      "metadata": {
        "colab": {
          "base_uri": "https://localhost:8080/"
        },
        "id": "nylRMIudrXby",
        "outputId": "249c3b0f-d360-43f5-8210-dbca847c8a02"
      },
      "execution_count": 45,
      "outputs": [
        {
          "output_type": "stream",
          "name": "stdout",
          "text": [
            "Epoch 1/8\n",
            "182/182 [==============================] - 56s 277ms/step - loss: 1.3487 - accuracy: 0.3981 - val_loss: 1.1091 - val_accuracy: 0.4574\n",
            "Epoch 2/8\n",
            "182/182 [==============================] - 50s 273ms/step - loss: 0.8197 - accuracy: 0.6690 - val_loss: 0.7242 - val_accuracy: 0.7318\n",
            "Epoch 3/8\n",
            "182/182 [==============================] - 50s 275ms/step - loss: 0.5002 - accuracy: 0.8158 - val_loss: 0.7794 - val_accuracy: 0.7349\n",
            "Epoch 4/8\n",
            "182/182 [==============================] - 51s 282ms/step - loss: 0.3926 - accuracy: 0.8529 - val_loss: 0.9377 - val_accuracy: 0.7302\n",
            "Epoch 5/8\n",
            "182/182 [==============================] - 49s 265ms/step - loss: 0.3114 - accuracy: 0.8813 - val_loss: 1.0327 - val_accuracy: 0.7473\n",
            "Epoch 6/8\n",
            "182/182 [==============================] - 48s 263ms/step - loss: 0.2445 - accuracy: 0.8979 - val_loss: 1.1234 - val_accuracy: 0.7380\n",
            "Epoch 7/8\n",
            "182/182 [==============================] - 48s 263ms/step - loss: 0.1908 - accuracy: 0.9200 - val_loss: 1.1969 - val_accuracy: 0.7535\n",
            "Epoch 8/8\n",
            "182/182 [==============================] - 51s 282ms/step - loss: 0.1810 - accuracy: 0.9214 - val_loss: 1.1560 - val_accuracy: 0.7442\n"
          ]
        }
      ]
    },
    {
      "cell_type": "code",
      "source": [
        "#Visualise the confusion matrix plot.\n",
        "plot_loss_acc(hmodel)"
      ],
      "metadata": {
        "colab": {
          "base_uri": "https://localhost:8080/",
          "height": 927
        },
        "id": "qiaQ--HqrnGX",
        "outputId": "c1c9950a-406c-490f-9b40-18c62d5ac6c8"
      },
      "execution_count": 44,
      "outputs": [
        {
          "output_type": "display_data",
          "data": {
            "text/plain": [
              "<Figure size 640x480 with 1 Axes>"
            ],
            "image/png": "[encoded data removed]"
          },
          "metadata": {}
        },
        {
          "output_type": "display_data",
          "data": {
            "text/plain": [
              "<Figure size 640x480 with 1 Axes>"
            ],
            "image/png": "[encoded data removed]"
          },
          "metadata": {}
        }
      ]
    },
    {
      "cell_type": "code",
      "source": [
        "#Evaluate the model\n",
        "loss, accuracy = model.evaluate(X_test, y_test)\n",
        "print(f'The loss is {loss:.2f}')\n",
        "print(f'The accuracy is {accuracy:.2f}')"
      ],
      "metadata": {
        "id": "5yVaFnBsoe65"
      },
      "execution_count": null,
      "outputs": []
    },
    {
      "cell_type": "code",
      "source": [
        ":"
      ],
      "metadata": {
        "id": "yqF-yCMs2YXO"
      },
      "execution_count": null,
      "outputs": []
    }
  ]
}